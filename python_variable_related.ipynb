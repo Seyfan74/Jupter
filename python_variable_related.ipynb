{
 "cells": [
  {
   "cell_type": "markdown",
   "metadata": {},
   "source": [
    "**Variable in Python**"
   ]
  },
  {
   "cell_type": "code",
   "execution_count": 24,
   "metadata": {},
   "outputs": [
    {
     "name": "stdout",
     "output_type": "stream",
     "text": [
      "10 3.14 Seyfan False\n"
     ]
    }
   ],
   "source": [
    "#How Varianle in python is Define\n",
    "\n",
    "#Variable Assigment\n",
    "x= 10    #integer\n",
    "y = 3.14  #Float\n",
    "Name = 'Seyfan'   #string'\n",
    "is_active = False  #Boolen\n",
    "\n",
    "print(x,y, Name, is_active)"
   ]
  },
  {
   "cell_type": "markdown",
   "metadata": {},
   "source": [
    "**Arthematic Operation**"
   ]
  },
  {
   "cell_type": "code",
   "execution_count": 21,
   "metadata": {},
   "outputs": [
    {
     "name": "stdout",
     "output_type": "stream",
     "text": [
      "5.666666666666667 5 6 2 22\n"
     ]
    }
   ],
   "source": [
    "#Arthamatic Operations \n",
    "x = 17/3    #classic division returns a float\n",
    "x1 = int(17/3) #classic division returns change into a integor \n",
    "y= 18//3        # floor division discards the fractional part\n",
    "z = 17%3      # the % operator returns the remainder of the division \n",
    "r= 5 * (3 + 2)-3  # floored quotient * divisor + remainder Using BODMAS\n",
    "\n",
    "print(x, x1, y, z,r)"
   ]
  },
  {
   "cell_type": "code",
   "execution_count": 23,
   "metadata": {},
   "outputs": [
    {
     "name": "stdout",
     "output_type": "stream",
     "text": [
      "0.125 12.5625 87.94\n"
     ]
    }
   ],
   "source": [
    "tax = 12.5 / 100  # Tax rate\n",
    "price = 100.50  # Price\n",
    "profit = price * tax  # Calculate profit\n",
    "#price = price - profit\n",
    "price = price - round(profit, 2)  # Subtract profit (rounded to 2 decimals) from price\n",
    "print(tax,profit, price)  # Print profit and updated price"
   ]
  },
  {
   "cell_type": "markdown",
   "metadata": {},
   "source": [
    "**How to Break a line with ( Using \\n starts newline)**"
   ]
  },
  {
   "cell_type": "code",
   "execution_count": 38,
   "metadata": {},
   "outputs": [
    {
     "name": "stdout",
     "output_type": "stream",
     "text": [
      "First line.\n",
      "Second line.\n",
      "Third line.\n"
     ]
    }
   ],
   "source": [
    "s = 'First line.\\nSecond line.\\nThird line.'  # \\n means newline\n",
    "\n",
    "print(s)  # with print(), special characters are interpreted, so \\n produces new line."
   ]
  },
  {
   "cell_type": "code",
   "execution_count": 40,
   "metadata": {},
   "outputs": [
    {
     "name": "stdout",
     "output_type": "stream",
     "text": [
      "Well come to the Bank of ALL\n",
      "Welcome to the Bank of America!\n",
      "Well come to the Bank of CBE\n"
     ]
    }
   ],
   "source": [
    "def greet_customer():\n",
    "    print(\"Welcome to the Bank of America!\")\n",
    "    print('Well come to the Bank of CBE')\n",
    "print('Well come to the Bank of ALL')\n",
    "greet_customer()"
   ]
  },
  {
   "cell_type": "markdown",
   "metadata": {},
   "source": [
    "**How to add a string or words in Python**"
   ]
  },
  {
   "cell_type": "code",
   "execution_count": 46,
   "metadata": {},
   "outputs": [
    {
     "name": "stdout",
     "output_type": "stream",
     "text": [
      "unununium SeyfanSeyfanKelil python\n"
     ]
    }
   ],
   "source": [
    "# 3 times 'un', followed by 'ium'\n",
    "x = 3 * 'un' + 'ium'\n",
    "y= 2* 'Seyfan' + 'Kelil'\n",
    "z = 'py' 'thon'\n",
    "print(x,y, z)"
   ]
  },
  {
   "cell_type": "code",
   "execution_count": 57,
   "metadata": {},
   "outputs": [
    {
     "name": "stdout",
     "output_type": "stream",
     "text": [
      "Put several strings within parentheses to have them joined together. Put several strings within parentheses to have them joined together. .\n",
      " I am Seyfan living in USA Starting from August 2024\n"
     ]
    }
   ],
   "source": [
    "text = ('Put several strings within parentheses '\n",
    "\n",
    "        'to have them joined together.')\n",
    "text1 = ('Put several strings within parentheses '\n",
    "\n",
    "        'to have them joined together. .\\n')\n",
    "\n",
    "text2= ('I am Seyfan living in USA '\n",
    "        'Starting from August 2024')\n",
    "\n",
    "print(text, text1, text2)"
   ]
  },
  {
   "cell_type": "markdown",
   "metadata": {},
   "source": [
    "**How to Replace or add a value**"
   ]
  },
  {
   "cell_type": "code",
   "execution_count": 68,
   "metadata": {},
   "outputs": [
    {
     "name": "stdout",
     "output_type": "stream",
     "text": [
      "[1, 8, 27, 64, 125]\n"
     ]
    }
   ],
   "source": [
    "cubes = [1,8,27,65,125]  #something's wrong here  [1, 2, 3, 4, 5]\n",
    "#cubes [0] = 0      #making empety\n",
    "#cubes = []\n",
    "cubes[3]=64    #replace the wrong value\n",
    "print(cubes)"
   ]
  },
  {
   "cell_type": "code",
   "execution_count": 71,
   "metadata": {},
   "outputs": [
    {
     "name": "stdout",
     "output_type": "stream",
     "text": [
      "False\n",
      "['Red', 'Green', 'Blue', 'Alph', 'Seyfan']\n"
     ]
    }
   ],
   "source": [
    "rgb = [\"Red\", \"Green\", \"Blue\"]\n",
    "rgba = rgb               #Logical expression \n",
    "print(id(rgb)!=id(rgba))   #they reference the same object\n",
    "rgba.append(\"Alph\")       #adding other data\n",
    "rgba.append(\"Seyfan\")\n",
    "print(rgb)"
   ]
  },
  {
   "cell_type": "markdown",
   "metadata": {},
   "source": [
    "**Keywords**"
   ]
  },
  {
   "cell_type": "markdown",
   "metadata": {},
   "source": [
    "**1. append()**==>Adds an element to the end of the list.\n",
    "\n",
    "<font size = \"5\"> **list_name.append(element)**"
   ]
  },
  {
   "cell_type": "code",
   "execution_count": 74,
   "metadata": {},
   "outputs": [
    {
     "name": "stdout",
     "output_type": "stream",
     "text": [
      "[1, 2, 3, 4, 8]\n"
     ]
    }
   ],
   "source": [
    "my_list = [1, 2, 3]\n",
    "my_list.append(4)\n",
    "my_list.append(8)\n",
    "print(my_list)  # Output: [1, 2, 3, 4]"
   ]
  },
  {
   "cell_type": "markdown",
   "metadata": {},
   "source": [
    " **2. reverse()**==>Reverses the elements of the list in place.\n",
    "\n",
    "<font size = \"5\"> **list_name.reverse()**"
   ]
  },
  {
   "cell_type": "code",
   "execution_count": 77,
   "metadata": {},
   "outputs": [
    {
     "name": "stdout",
     "output_type": "stream",
     "text": [
      "[3, 2, 1]\n",
      "['E', 'D', 'C', 'B', 'A']\n"
     ]
    }
   ],
   "source": [
    "my_list = [1, 2, 3]\n",
    "x= ['A', 'B', 'C', 'D', 'E']\n",
    "my_list.reverse()\n",
    "x.reverse()\n",
    "print(my_list)  # Output: [3, 2, 1]\n",
    "print(x)        #Output: ['A', 'B', 'C', 'D', 'E']\n",
    "     "
   ]
  },
  {
   "cell_type": "markdown",
   "metadata": {},
   "source": [
    "**3. insert()** ==>Inserts an element at a specific index.\n",
    "\n",
    "<font size = \"5\"> **list_name.insert(index, element)**\n",
    "\n",
    "**index** is a place of the value in the list\n",
    "\n",
    "**element** is the value of the data"
   ]
  },
  {
   "cell_type": "code",
   "execution_count": 80,
   "metadata": {},
   "outputs": [
    {
     "name": "stdout",
     "output_type": "stream",
     "text": [
      "[2, 1, 'a', 3, 4]\n"
     ]
    }
   ],
   "source": [
    "my_list = [1, 3, 4]\n",
    "my_list.insert(0, 2)  # Insert 2 at index 1\n",
    "my_list.insert(2,'a')\n",
    "print(my_list)  # Output: [1, 2, 3, 4]\n"
   ]
  },
  {
   "cell_type": "markdown",
   "metadata": {},
   "source": [
    "<font size = \"5\"> **4. remove()**==>Removes the first occurrence of a specified element.\n",
    "\n",
    "<font size = \"3\"> **list_name.remove(element)**\n",
    "\n",
    "remove works removing the value you want \n",
    "\n",
    "\n",
    "ValueError: list.remove(x): x not in list"
   ]
  },
  {
   "cell_type": "code",
   "execution_count": 105,
   "metadata": {},
   "outputs": [
    {
     "name": "stdout",
     "output_type": "stream",
     "text": [
      "['c', 1, 3, 2, 'a']\n"
     ]
    }
   ],
   "source": [
    "my_list = [1, 2, 3, 2]\n",
    "my_list.append('a')\n",
    "my_list.insert(0, 'c')\n",
    "#my_list.extend(['d', 'k', 7,8, 9.5])\n",
    "my_list.remove(2)  # Removes the first 2\n",
    "print(my_list)  # Output: [1, 3, 2]\n"
   ]
  },
  {
   "cell_type": "markdown",
   "metadata": {},
   "source": [
    "<font size = \"5\"> **5. pop()**==>Removes and returns the element at the specified index (default is the last element).\n",
    "\n",
    "list_name.pop(index)  # Index is optional"
   ]
  },
  {
   "cell_type": "code",
   "execution_count": 98,
   "metadata": {},
   "outputs": [
    {
     "name": "stdout",
     "output_type": "stream",
     "text": [
      "v\n",
      "[1, 2, 3, 'a']\n"
     ]
    }
   ],
   "source": [
    "my_list = [1, 2, 3, 'a', 'v']\n",
    "element = my_list.pop()  # Removes and returns the last element\n",
    "print(element)  # Output: 3\n",
    "print(my_list)  # Output: [1, 2]\n"
   ]
  },
  {
   "cell_type": "markdown",
   "metadata": {},
   "source": [
    "<font size = \"5\"> **6. sort()Sorts the list in place (ascending by default).**\n",
    "\n",
    "list_name.sort(reverse=False)  # `reverse=True` for descending order"
   ]
  },
  {
   "cell_type": "code",
   "execution_count": 101,
   "metadata": {},
   "outputs": [
    {
     "name": "stdout",
     "output_type": "stream",
     "text": [
      "[1, 2, 3]\n",
      "['a', 'c', 'g', 'u']\n"
     ]
    }
   ],
   "source": [
    "my_list = [3, 1, 2]\n",
    "x = ['a', 'c', 'g', 'u']\n",
    "x.sort()\n",
    "my_list.sort()\n",
    "print(my_list)  # Output: [1, 2, 3]\n",
    "print(x)"
   ]
  },
  {
   "cell_type": "markdown",
   "metadata": {},
   "source": [
    "<font size = \"5\"> **7. extend()**==>Extends the list by appending elements from another iterable (e.g., list, tuple).\n",
    "\n",
    "**list_name.extend(iterable)**"
   ]
  },
  {
   "cell_type": "code",
   "execution_count": 107,
   "metadata": {},
   "outputs": [
    {
     "name": "stdout",
     "output_type": "stream",
     "text": [
      "[1, 2, 3, 4, 'g', 'm']\n"
     ]
    }
   ],
   "source": [
    "my_list = [1, 2]\n",
    "my_list.extend([3, 4, 'g', 'm'])\n",
    "print(my_list)  # Output: [1, 2, 3, 4]"
   ]
  },
  {
   "cell_type": "markdown",
   "metadata": {},
   "source": [
    "<font size = \"5\"> **8. clear()**==>Removes all elements from the list.\n",
    "\n",
    "**list_name.clear()**"
   ]
  },
  {
   "cell_type": "code",
   "execution_count": 111,
   "metadata": {},
   "outputs": [
    {
     "name": "stdout",
     "output_type": "stream",
     "text": [
      "[]\n"
     ]
    }
   ],
   "source": [
    "my_list = [1, 2, 3]\n",
    "my_list.clear()\n",
    "my_list=[]\n",
    "print(my_list)  # Output: []"
   ]
  }
 ],
 "metadata": {
  "kernelspec": {
   "display_name": "Python 3",
   "language": "python",
   "name": "python3"
  },
  "language_info": {
   "codemirror_mode": {
    "name": "ipython",
    "version": 3
   },
   "file_extension": ".py",
   "mimetype": "text/x-python",
   "name": "python",
   "nbconvert_exporter": "python",
   "pygments_lexer": "ipython3",
   "version": "3.13.1"
  }
 },
 "nbformat": 4,
 "nbformat_minor": 2
}
