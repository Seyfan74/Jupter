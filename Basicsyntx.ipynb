{
 "cells": [
  {
   "cell_type": "code",
   "execution_count": null,
   "metadata": {},
   "outputs": [],
   "source": []
  },
  {
   "cell_type": "code",
   "execution_count": 5,
   "metadata": {},
   "outputs": [
    {
     "name": "stdout",
     "output_type": "stream",
     "text": [
      "welcome second customer\n",
      "welcome to the bank\n"
     ]
    }
   ],
   "source": [
    "def greet_customer():\n",
    "    print(\"welcome to the bank\")\n",
    "print(\"welcome second customer\")\n",
    "greet_customer()\n",
    "    "
   ]
  },
  {
   "cell_type": "code",
   "execution_count": 6,
   "metadata": {},
   "outputs": [
    {
     "data": {
      "text/plain": [
       "'\\nhello world\\n'"
      ]
     },
     "execution_count": 6,
     "metadata": {},
     "output_type": "execute_result"
    }
   ],
   "source": [
    "#single line comments\n",
    "\n",
    "\"\"\"\n",
    "hello world\n",
    "\"\"\""
   ]
  },
  {
   "cell_type": "markdown",
   "metadata": {},
   "source": [
    "*Coding Style*\n",
    "*camecase*\n",
    "*snake_case*"
   ]
  },
  {
   "cell_type": "code",
   "execution_count": 7,
   "metadata": {},
   "outputs": [],
   "source": [
    "#variable name with Camel Case\n",
    "accountBalance= 5000\n",
    "\n",
    "#Variable name with snake case\n",
    "user= \"Seyfan\""
   ]
  },
  {
   "cell_type": "code",
   "execution_count": 8,
   "metadata": {},
   "outputs": [
    {
     "ename": "SyntaxError",
     "evalue": "invalid syntax. Perhaps you forgot a comma? (545508808.py, line 5)",
     "output_type": "error",
     "traceback": [
      "\u001b[1;36m  Cell \u001b[1;32mIn[8], line 5\u001b[1;36m\u001b[0m\n\u001b[1;33m    value = int(input{\"Enter a number: \"})\u001b[0m\n\u001b[1;37m                ^\u001b[0m\n\u001b[1;31mSyntaxError\u001b[0m\u001b[1;31m:\u001b[0m invalid syntax. Perhaps you forgot a comma?\n"
     ]
    }
   ],
   "source": [
    "name= input(\"Enter your name:\")\n",
    "print(f\"Hello, {name}\")\n",
    "\n",
    "try:\n",
    "    value = int(input{\"Enter a number: \"})\n",
    "except ValueError:\n",
    "    print(\"that is not a valid number\")"
   ]
  },
  {
   "cell_type": "code",
   "execution_count": 24,
   "metadata": {},
   "outputs": [
    {
     "name": "stdout",
     "output_type": "stream",
     "text": [
      "Area: 12.57\n",
      "Circumference: 12.57\n"
     ]
    }
   ],
   "source": [
    "import math\n",
    "\n",
    "# Function to calculate the area and circumference\n",
    "def calculate_circle(radius):\n",
    "    area = math.pi * (radius ** 2)\n",
    "    circumference = 2 * math.pi * radius\n",
    "    return area, circumference\n",
    "\n",
    "# Example usage\n",
    "radius = float(input(\"Enter the radius of the circle: \"))\n",
    "area, circumference = calculate_circle(radius)\n",
    "\n",
    "print(f\"Area: {area:.2f}\")\n",
    "print(f\"Circumference: {circumference:.2f}\")\n"
   ]
  },
  {
   "cell_type": "code",
   "execution_count": 27,
   "metadata": {},
   "outputs": [
    {
     "name": "stdout",
     "output_type": "stream",
     "text": [
      "The area of the circle with radius 2.0 is:12.57\n",
      "The area of the circle with radius 2.0 is:12.5663706143591724639918538741767406463623046875000000000000000000000000000000000000000000000000000000\n"
     ]
    }
   ],
   "source": [
    "\n",
    "#!/usr/bin/env python3\n",
    "# A simple Python program to demonstrate key components\n",
    "# Import necessary module\n",
    "import math\n",
    "# Function to calculate the area of a circle\n",
    "def calculate_area(radius):\n",
    "    return math.pi * radius ** 2\n",
    "# Main function to run the program\n",
    "def main():\n",
    "# Input: radius of the circle\n",
    "    radius = float(input(\"Enter the radius of the circle: \"))\n",
    "# Calculate area\n",
    "    area = calculate_area(radius)\n",
    "# Output the result\n",
    "    print(f\"The area of the circle with radius {radius} is:{area:.2f}\")\n",
    "    print(f\"The area of the circle with radius {radius} is:{area:.100f}\")\n",
    "# Ensure the script is run directly\n",
    "if __name__ == \"__main__\":\n",
    "    main()"
   ]
  },
  {
   "cell_type": "markdown",
   "metadata": {},
   "source": [
    "Data Types\n",
    "String, integers, Floats, Boolens\n"
   ]
  },
  {
   "cell_type": "code",
   "execution_count": 30,
   "metadata": {},
   "outputs": [
    {
     "name": "stdout",
     "output_type": "stream",
     "text": [
      "Welcome, seyfan Kelil!\n",
      "ome, s\n"
     ]
    }
   ],
   "source": [
    "name = \"seyfan\"\n",
    "fathername = \"Kelil\"\n",
    "\n",
    "account_holder = name + \" \" + fathername\n",
    "account_message = f\"Welcome, {account_holder}!\"\n",
    "print(account_message)\n",
    "\n",
    "print(account_message[4:10])"
   ]
  },
  {
   "cell_type": "code",
   "execution_count": null,
   "metadata": {},
   "outputs": [],
   "source": [
    "accountBalance = 1345.24\n",
    "transaction_count = 8\n"
   ]
  },
  {
   "cell_type": "code",
   "execution_count": null,
   "metadata": {},
   "outputs": [],
   "source": [
    "isAvailable = True"
   ]
  },
  {
   "cell_type": "code",
   "execution_count": 32,
   "metadata": {},
   "outputs": [
    {
     "name": "stdout",
     "output_type": "stream",
     "text": [
      "Thank you John Doe for your transaction of $200.50.\n"
     ]
    }
   ],
   "source": [
    "#Formatting a message to display a transaction receipt\n",
    "account_name = \"John Doe\"\n",
    "transaction = 200.50\n",
    "receipt = f\"Thank you {account_name} for your transaction of ${transaction:.2f}.\"\n",
    "print(receipt) \n",
    "# Output: Thank you John Doe for your transaction of $200.50."
   ]
  },
  {
   "cell_type": "code",
   "execution_count": 33,
   "metadata": {},
   "outputs": [
    {
     "name": "stdout",
     "output_type": "stream",
     "text": [
      "Interest after 2 years: 500.0\n"
     ]
    }
   ],
   "source": [
    "#Calculating simple interest\n",
    "principal = 5000 # Initial amount\n",
    "rate = 0.05 # 5% interest\n",
    "time = 2 # in years\n",
    "interest = principal * rate * time\n",
    "print(\"Interest after 2 years:\", interest) # Output: Interest after 2\n",
    "years: 500.0"
   ]
  },
  {
   "cell_type": "code",
   "execution_count": 34,
   "metadata": {},
   "outputs": [
    {
     "name": "stdout",
     "output_type": "stream",
     "text": [
      "Qualifies for loan: True\n"
     ]
    }
   ],
   "source": [
    "#Check if the user qualifies for a loan\n",
    "has_good_credit = True\n",
    "has_sufficient_income = True\n",
    "qualifies_for_loan = has_good_credit and has_sufficient_income\n",
    "print(\"Qualifies for loan:\", qualifies_for_loan) \n",
    "# Output: Qualifiesfor loan: True"
   ]
  },
  {
   "cell_type": "markdown",
   "metadata": {},
   "source": [
    "Variables and Basic Operations"
   ]
  },
  {
   "cell_type": "code",
   "execution_count": null,
   "metadata": {},
   "outputs": [],
   "source": [
    "user = \"seyfan\"\n",
    "accountBalance = 4623784.9\n",
    "\n",
    "#+. -, * / basic operation\n",
    "\n",
    "#//  integer division\n",
    "#%   moudule Operations\n",
    "# **  Exponatial\n",
    "#= assigment operator\n",
    "\n",
    "\n",
    "\n",
    "# ==, !=, <> >=, <=\n",
    "\n",
    "# and, or, not\n",
    "#bitwise operations\n",
    "#&"
   ]
  },
  {
   "cell_type": "code",
   "execution_count": 35,
   "metadata": {},
   "outputs": [
    {
     "name": "stdout",
     "output_type": "stream",
     "text": [
      "Can withdraw: True\n"
     ]
    }
   ],
   "source": [
    "#Checking if a transaction is within the user’s balance\n",
    "account_balance = 500\n",
    "withdrawal_amount = 200\n",
    "can_withdraw = withdrawal_amount + 50 <= account_balance\n",
    "print(\"Can withdraw:\", can_withdraw) # Output: Can withdraw: True"
   ]
  },
  {
   "cell_type": "code",
   "execution_count": null,
   "metadata": {},
   "outputs": [],
   "source": [
    "#Determine if a customer is eligible for a premium account based on balance\n",
    "account_balance = 5000\n",
    "minimum_balance_for_premium = 10000\n",
    "is_premium = account_balance >= minimum_balance_for_premium\n",
    "print(\"Is eligible for premium account:\", is_premium) # Output: Iseligible for premium account: False"
   ]
  },
  {
   "cell_type": "code",
   "execution_count": 43,
   "metadata": {},
   "outputs": [
    {
     "name": "stdout",
     "output_type": "stream",
     "text": [
      "0 1 1\n"
     ]
    }
   ],
   "source": [
    "a = 1  #00000001\n",
    "b = 0  #00000010\n",
    "c = a and b\n",
    "c1 = a | b\n",
    "c2 = a^b\n",
    "\n",
    "print(c, c1, c2)"
   ]
  },
  {
   "cell_type": "markdown",
   "metadata": {},
   "source": [
    "<font  size = \"5\"> **Control Structures**"
   ]
  },
  {
   "cell_type": "markdown",
   "metadata": {},
   "source": [
    "<font size = \"5\"> **IF Condations**"
   ]
  },
  {
   "cell_type": "markdown",
   "metadata": {},
   "source": [
    "if a ==5:\n",
    "    x =x+y\n",
    "elif x<0:\n",
    "    x=y\n",
    "else:\n",
    "    x = x-y\n"
   ]
  },
  {
   "cell_type": "code",
   "execution_count": 2,
   "metadata": {},
   "outputs": [
    {
     "name": "stdout",
     "output_type": "stream",
     "text": [
      "Monthly fee: $5\n"
     ]
    }
   ],
   "source": [
    "#Example 1: Determine account fees based on account balance.\n",
    "balance = 1200\n",
    "if balance < 500:\n",
    "    fee = 20\n",
    "elif balance < 1000:\n",
    "    fee = 10\n",
    "else:\n",
    "    fee = 5\n",
    "print(f\"Monthly fee: ${fee}\")"
   ]
  },
  {
   "cell_type": "code",
   "execution_count": null,
   "metadata": {},
   "outputs": [],
   "source": []
  },
  {
   "cell_type": "code",
   "execution_count": 3,
   "metadata": {},
   "outputs": [
    {
     "name": "stdout",
     "output_type": "stream",
     "text": [
      "Overdraft limit: 0\n"
     ]
    }
   ],
   "source": [
    "#Example 2: Set overdraft protection options.\n",
    "account_type = \"premium\"\n",
    "account_type = \"standard\"\n",
    "account_type = \"business\"\n",
    "balance = 300\n",
    "if account_type == \"premium\":\n",
    "    overdraft_limit = 1000\n",
    "elif account_type == \"standard\" and balance >= 500:\n",
    "    overdraft_limit = 500\n",
    "else:\n",
    "    overdraft_limit = 0\n",
    "print(\"Overdraft limit:\", overdraft_limit)"
   ]
  },
  {
   "cell_type": "markdown",
   "metadata": {},
   "source": [
    "**Exercies: Write a program to determine if a customer is eligible for a special savings account based on their age and balances using python** "
   ]
  },
  {
   "cell_type": "code",
   "execution_count": 13,
   "metadata": {},
   "outputs": [
    {
     "name": "stdout",
     "output_type": "stream",
     "text": [
      "You qaulify for a pecial savings account\n"
     ]
    }
   ],
   "source": [
    "CustomerAge = int(input(\"Enter your age:\"))\n",
    "customerBalance = float(input(\"Enter your balance:\"))\n",
    "\n",
    "#if the customer age is above 18 and the customer account balance is above 5000$\n",
    "#they quality for special savings account. Otherswise they donot qaulify\n",
    "\n",
    "if(CustomerAge >=18) and (customerBalance>5000):\n",
    "    print(\"You qaulify for a pecial savings account\")\n",
    "else:\n",
    "    print(\"You do not qaulify for a pecial savings account\")"
   ]
  },
  {
   "cell_type": "code",
   "execution_count": 15,
   "metadata": {},
   "outputs": [
    {
     "name": "stdout",
     "output_type": "stream",
     "text": [
      "You qaulify for a pecial savings account\n"
     ]
    }
   ],
   "source": [
    "def specialAccount(CustomerAge, customerBalance):\n",
    "    if(CustomerAge >=18) and (customerBalance>5000):\n",
    "        print(\"You qaulify for a pecial savings account\")\n",
    "    else:\n",
    "        print(\"You do not qaulify for a pecial savings account\")\n",
    "\n",
    "#if the customer age is above 18 and the customer account balance is above 5000$\n",
    "#they quality for special savings account. Otherswise they donot qaulify\n",
    "\n",
    "CustomerAge = int(input(\"Enter your age:\"))\n",
    "customerBalance = float(input(\"Enter your balance:\"))\n",
    "\n",
    "specialAccount(CustomerAge, customerBalance)"
   ]
  },
  {
   "cell_type": "code",
   "execution_count": 4,
   "metadata": {},
   "outputs": [
    {
     "name": "stdout",
     "output_type": "stream",
     "text": [
      "Not eligible: Must be at least 18 years old.\n"
     ]
    }
   ],
   "source": [
    "def is_eligible_for_special_account(age, balance):\n",
    "    \"\"\"\n",
    "    Determines if a customer is eligible for a special savings account.\n",
    "\n",
    "    Parameters:\n",
    "        age (int): The age of the customer.\n",
    "        balance (float): The current balance of the customer.\n",
    "\n",
    "    Returns:\n",
    "        str: A message indicating eligibility.\n",
    "    \"\"\"\n",
    "    # Eligibility criteria\n",
    "    MINIMUM_AGE = 18\n",
    "    MINIMUM_BALANCE = 5000\n",
    "\n",
    "    if age < MINIMUM_AGE:\n",
    "        return f\"Not eligible: Must be at least {MINIMUM_AGE} years old.\"\n",
    "    elif balance < MINIMUM_BALANCE:\n",
    "        return f\"Not eligible: Must have a balance of at least ${MINIMUM_BALANCE}.\"\n",
    "    else:\n",
    "        return \"Eligible: You meet the requirements for the special savings account!\"\n",
    "\n",
    "# Example usage\n",
    "def main():\n",
    "    try:\n",
    "        age = int(input(\"Enter your age: \"))\n",
    "        balance = float(input(\"Enter your savings account balance: \"))\n",
    "\n",
    "        result = is_eligible_for_special_account(age, balance)\n",
    "        print(result)\n",
    "    except ValueError:\n",
    "        print(\"Invalid input. Please enter a valid number for age and balance.\")\n",
    "\n",
    "if __name__ == \"__main__\":\n",
    "    main()\n"
   ]
  },
  {
   "cell_type": "markdown",
   "metadata": {},
   "source": [
    "**For Loop**"
   ]
  },
  {
   "cell_type": "code",
   "execution_count": 16,
   "metadata": {},
   "outputs": [
    {
     "name": "stdout",
     "output_type": "stream",
     "text": [
      "-5\n",
      "-3\n",
      "-1\n",
      "1\n",
      "3\n",
      "5\n",
      "7\n",
      "9\n",
      "Total deposit for all accounts: 8500\n"
     ]
    }
   ],
   "source": [
    "#Calculate cumulative deposits for multiple accounts.\n",
    "\n",
    "balances = [1000, 2500, 1500, 3500]\n",
    "total_deposit = 0\n",
    "for balance in balances:\n",
    "    total_deposit += balance\n",
    "\n",
    "for i in range (-5, 10,2):\n",
    "    print(i)\n",
    "\n",
    "print(\"Total deposit for all accounts:\", total_deposit)\n"
   ]
  },
  {
   "cell_type": "code",
   "execution_count": 23,
   "metadata": {},
   "outputs": [
    {
     "name": "stdout",
     "output_type": "stream",
     "text": [
      "-5\n",
      "-3\n",
      "-1\n",
      "1\n",
      "3\n",
      "Total deposit for all accounts: 8500\n"
     ]
    }
   ],
   "source": [
    "#Calculate cumulative deposits for multiple accounts.\n",
    "\n",
    "balances = [1000, 2500, 1500, 3500]\n",
    "total_deposit = 0\n",
    "for balance in balances:\n",
    "    total_deposit += balance\n",
    "\n",
    "for i in range (-5, 10,2):\n",
    "    if i == 5:\n",
    "        break       #stops at 5\n",
    "        #continue   # only stops at that point\n",
    "    print(i)\n",
    "\n",
    "print(\"Total deposit for all accounts:\", total_deposit)"
   ]
  },
  {
   "cell_type": "markdown",
   "metadata": {},
   "source": [
    "**While Loop**"
   ]
  },
  {
   "cell_type": "code",
   "execution_count": 19,
   "metadata": {},
   "outputs": [
    {
     "name": "stdout",
     "output_type": "stream",
     "text": [
      "Incorrect PIN. Attempts left: 2\n",
      "Incorrect PIN. Attempts left: 1\n",
      "Incorrect PIN. Attempts left: 0\n",
      "Card blocked due to multiple incorrect attempts.\n"
     ]
    }
   ],
   "source": [
    "attempts = 3\n",
    "correct_pin = \"5678\"\n",
    "\n",
    "#while attempts:\n",
    "while attempts > 0:\n",
    "    pin = input(\"Enter PIN: \")\n",
    "    if pin == correct_pin:\n",
    "        print(\"Access granted.\")\n",
    "        break\n",
    "    else:\n",
    "        attempts -= 1\n",
    "        print(\"Incorrect PIN. Attempts left:\", attempts)\n",
    "\n",
    "if attempts == 0:\n",
    "    print(\"Card blocked due to multiple incorrect attempts.\")\n"
   ]
  },
  {
   "cell_type": "markdown",
   "metadata": {},
   "source": [
    "**Funcation: used for modularizing code**"
   ]
  },
  {
   "cell_type": "markdown",
   "metadata": {},
   "source": [
    "\n",
    "\n",
    "Syntax:\n",
    "def function_name(parametersList):\n",
    "    <Function body>\n",
    "    return value"
   ]
  },
  {
   "cell_type": "code",
   "execution_count": 25,
   "metadata": {},
   "outputs": [
    {
     "name": "stdout",
     "output_type": "stream",
     "text": [
      "Monthly mortgage payment: 15390.04\n"
     ]
    }
   ],
   "source": [
    "#Example 1: Calculate monthly mortgage payment.\n",
    "#principal is the amount of money that is to be owed\n",
    "#rate is interest to be paid per year\n",
    "#term is the number of months the loan is to be paid back in\n",
    "\n",
    "def calculate_mortgage(principal, rate, term):\n",
    "    monthly_rate = rate / 12\n",
    "    months = term * 12\n",
    "    monthly_payment = principal * (monthly_rate * (1 +monthly_rate) ** months) / ((1 + monthly_rate) ** months - 1)\n",
    "    return monthly_payment\n",
    "\n",
    "payment = calculate_mortgage(1000000, 0.17, 15)\n",
    "print(\"Monthly mortgage payment:\", round(payment, 2))   #rounding to two digiets "
   ]
  },
  {
   "cell_type": "code",
   "execution_count": 29,
   "metadata": {},
   "outputs": [
    {
     "name": "stdout",
     "output_type": "stream",
     "text": [
      "Monthly mortgage payment: 15390.04\n",
      "Inside void funcation:\n",
      "Text\n"
     ]
    }
   ],
   "source": [
    "#Example 1: Calculate monthly mortgage payment.\n",
    "#principal is the amount of money that is to be owed\n",
    "#rate is interest to be paid per year\n",
    "#term is the number of months the loan is to be paid back in\n",
    "\n",
    "def calculate_mortgage(principal, rate, term):\n",
    "    monthly_rate = rate / 12\n",
    "    months = term * 12\n",
    "    monthly_payment = principal * (monthly_rate * (1 +monthly_rate) ** months) / ((1 + monthly_rate) ** months - 1)\n",
    "    return monthly_payment\n",
    "\n",
    "payment = calculate_mortgage(1000000, 0.17, 15)\n",
    "print(\"Monthly mortgage payment:\", round(payment, 2))   #rounding to two digiets \n",
    "\n",
    "def function():\n",
    "    print(\"Inside void funcation:\")\n",
    "    return \"Text\"\n",
    "\n",
    "text = function()\n",
    "print(text)\n"
   ]
  },
  {
   "cell_type": "code",
   "execution_count": 32,
   "metadata": {},
   "outputs": [
    {
     "name": "stdout",
     "output_type": "stream",
     "text": [
      "The transaction is not fraudulent.\n"
     ]
    }
   ],
   "source": [
    "def is_fraudulent_transaction(amount, threshold):\n",
    "    amount = float(input(\"Enter the transaction amount: \"))\n",
    "    threshold = float(input(\"Enter the fraud threshold: \"))\n",
    "    return amount > threshold\n",
    "if is_fraudulent_transaction(amount, threshold):\n",
    "        print(\"The transaction is potentially fraudulent.\")\n",
    "else:\n",
    "        print(\"The transaction is not fraudulent.\")\n"
   ]
  },
  {
   "cell_type": "code",
   "execution_count": 31,
   "metadata": {},
   "outputs": [
    {
     "name": "stdout",
     "output_type": "stream",
     "text": [
      "The transaction is not fraudulent.\n"
     ]
    }
   ],
   "source": [
    "def is_fraudulent_transaction(amount, threshold):\n",
    "    return amount > threshold\n",
    "\n",
    "# Get user input\n",
    "amount = float(input(\"Enter the transaction amount: \"))\n",
    "threshold = float(input(\"Enter the fraud threshold: \"))\n",
    "\n",
    "# Check if the transaction is fraudulent\n",
    "if is_fraudulent_transaction(amount, threshold):\n",
    "    print(\"The transaction is potentially fraudulent.\")\n",
    "else:\n",
    "    print(\"The transaction is not fraudulent.\")\n"
   ]
  }
 ],
 "metadata": {
  "kernelspec": {
   "display_name": "Python 3",
   "language": "python",
   "name": "python3"
  },
  "language_info": {
   "codemirror_mode": {
    "name": "ipython",
    "version": 3
   },
   "file_extension": ".py",
   "mimetype": "text/x-python",
   "name": "python",
   "nbconvert_exporter": "python",
   "pygments_lexer": "ipython3",
   "version": "3.13.1"
  }
 },
 "nbformat": 4,
 "nbformat_minor": 2
}
