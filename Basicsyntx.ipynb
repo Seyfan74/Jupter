{
 "cells": [
  {
   "cell_type": "code",
   "execution_count": null,
   "metadata": {},
   "outputs": [],
   "source": []
  },
  {
   "cell_type": "code",
   "execution_count": 9,
   "metadata": {},
   "outputs": [
    {
     "name": "stdout",
     "output_type": "stream",
     "text": [
      "welcome second customer\n"
     ]
    }
   ],
   "source": [
    "def greet_customer():\n",
    "    print(\"welcome to the bank\")\n",
    "print(\"welcome second customer\")\n",
    "greet_customer()\n",
    "    "
   ]
  },
  {
   "cell_type": "code",
   "execution_count": 11,
   "metadata": {},
   "outputs": [
    {
     "data": {
      "text/plain": [
       "'\\nhello world\\n'"
      ]
     },
     "execution_count": 11,
     "metadata": {},
     "output_type": "execute_result"
    }
   ],
   "source": [
    "#single line comments\n",
    "\n",
    "\"\"\"\n",
    "hello world\n",
    "\"\"\""
   ]
  },
  {
   "cell_type": "markdown",
   "metadata": {},
   "source": [
    "*Coding Style*\n",
    "*camecase*\n",
    "*snake_case*"
   ]
  },
  {
   "cell_type": "code",
   "execution_count": 13,
   "metadata": {},
   "outputs": [],
   "source": [
    "#variable name with Camel Case\n",
    "accountBalance= 5000\n",
    "\n",
    "#Variable name with snake case\n",
    "user= \"Seyfan\""
   ]
  },
  {
   "cell_type": "code",
   "execution_count": 20,
   "metadata": {},
   "outputs": [
    {
     "ename": "SyntaxError",
     "evalue": "invalid syntax (507429497.py, line 3)",
     "output_type": "error",
     "traceback": [
      "\u001b[1;36m  Cell \u001b[1;32mIn[20], line 3\u001b[1;36m\u001b[0m\n\u001b[1;33m    except ValueError:\u001b[0m\n\u001b[1;37m    ^\u001b[0m\n\u001b[1;31mSyntaxError\u001b[0m\u001b[1;31m:\u001b[0m invalid syntax\n"
     ]
    }
   ],
   "source": [
    "name= input(\"Enter your name:\")\n",
    "print(f\"Hello, {name}\")\n",
    "\n",
    "try:\n",
    "    value = int(input{\"Enter a number: \"})\n",
    "except ValueError:\n",
    "    print(\"that is not a valid number\")"
   ]
  },
  {
   "cell_type": "code",
   "execution_count": 24,
   "metadata": {},
   "outputs": [
    {
     "name": "stdout",
     "output_type": "stream",
     "text": [
      "Area: 12.57\n",
      "Circumference: 12.57\n"
     ]
    }
   ],
   "source": [
    "import math\n",
    "\n",
    "# Function to calculate the area and circumference\n",
    "def calculate_circle(radius):\n",
    "    area = math.pi * (radius ** 2)\n",
    "    circumference = 2 * math.pi * radius\n",
    "    return area, circumference\n",
    "\n",
    "# Example usage\n",
    "radius = float(input(\"Enter the radius of the circle: \"))\n",
    "area, circumference = calculate_circle(radius)\n",
    "\n",
    "print(f\"Area: {area:.2f}\")\n",
    "print(f\"Circumference: {circumference:.2f}\")\n"
   ]
  },
  {
   "cell_type": "code",
   "execution_count": 27,
   "metadata": {},
   "outputs": [
    {
     "name": "stdout",
     "output_type": "stream",
     "text": [
      "The area of the circle with radius 2.0 is:12.57\n",
      "The area of the circle with radius 2.0 is:12.5663706143591724639918538741767406463623046875000000000000000000000000000000000000000000000000000000\n"
     ]
    }
   ],
   "source": [
    "\n",
    "#!/usr/bin/env python3\n",
    "# A simple Python program to demonstrate key components\n",
    "# Import necessary module\n",
    "import math\n",
    "# Function to calculate the area of a circle\n",
    "def calculate_area(radius):\n",
    "    return math.pi * radius ** 2\n",
    "# Main function to run the program\n",
    "def main():\n",
    "# Input: radius of the circle\n",
    "    radius = float(input(\"Enter the radius of the circle: \"))\n",
    "# Calculate area\n",
    "    area = calculate_area(radius)\n",
    "# Output the result\n",
    "    print(f\"The area of the circle with radius {radius} is:{area:.2f}\")\n",
    "    print(f\"The area of the circle with radius {radius} is:{area:.100f}\")\n",
    "# Ensure the script is run directly\n",
    "if __name__ == \"__main__\":\n",
    "    main()"
   ]
  },
  {
   "cell_type": "markdown",
   "metadata": {},
   "source": [
    "Data Types\n",
    "String, integers, Floats, Boolens\n"
   ]
  },
  {
   "cell_type": "code",
   "execution_count": 30,
   "metadata": {},
   "outputs": [
    {
     "name": "stdout",
     "output_type": "stream",
     "text": [
      "Welcome, seyfan Kelil!\n",
      "ome, s\n"
     ]
    }
   ],
   "source": [
    "name = \"seyfan\"\n",
    "fathername = \"Kelil\"\n",
    "\n",
    "account_holder = name + \" \" + fathername\n",
    "account_message = f\"Welcome, {account_holder}!\"\n",
    "print(account_message)\n",
    "\n",
    "print(account_message[4:10])"
   ]
  },
  {
   "cell_type": "code",
   "execution_count": null,
   "metadata": {},
   "outputs": [],
   "source": [
    "accountBalance = 1345.24\n",
    "transaction_count = 8\n"
   ]
  },
  {
   "cell_type": "code",
   "execution_count": null,
   "metadata": {},
   "outputs": [],
   "source": [
    "isAvailable = True"
   ]
  },
  {
   "cell_type": "code",
   "execution_count": 32,
   "metadata": {},
   "outputs": [
    {
     "name": "stdout",
     "output_type": "stream",
     "text": [
      "Thank you John Doe for your transaction of $200.50.\n"
     ]
    }
   ],
   "source": [
    "#Formatting a message to display a transaction receipt\n",
    "account_name = \"John Doe\"\n",
    "transaction = 200.50\n",
    "receipt = f\"Thank you {account_name} for your transaction of ${transaction:.2f}.\"\n",
    "print(receipt) \n",
    "# Output: Thank you John Doe for your transaction of $200.50."
   ]
  },
  {
   "cell_type": "code",
   "execution_count": 33,
   "metadata": {},
   "outputs": [
    {
     "name": "stdout",
     "output_type": "stream",
     "text": [
      "Interest after 2 years: 500.0\n"
     ]
    }
   ],
   "source": [
    "#Calculating simple interest\n",
    "principal = 5000 # Initial amount\n",
    "rate = 0.05 # 5% interest\n",
    "time = 2 # in years\n",
    "interest = principal * rate * time\n",
    "print(\"Interest after 2 years:\", interest) # Output: Interest after 2\n",
    "years: 500.0"
   ]
  },
  {
   "cell_type": "code",
   "execution_count": 34,
   "metadata": {},
   "outputs": [
    {
     "name": "stdout",
     "output_type": "stream",
     "text": [
      "Qualifies for loan: True\n"
     ]
    }
   ],
   "source": [
    "#Check if the user qualifies for a loan\n",
    "has_good_credit = True\n",
    "has_sufficient_income = True\n",
    "qualifies_for_loan = has_good_credit and has_sufficient_income\n",
    "print(\"Qualifies for loan:\", qualifies_for_loan) \n",
    "# Output: Qualifiesfor loan: True"
   ]
  },
  {
   "cell_type": "markdown",
   "metadata": {},
   "source": [
    "Variables and Basic Operations"
   ]
  },
  {
   "cell_type": "code",
   "execution_count": null,
   "metadata": {},
   "outputs": [],
   "source": [
    "user = \"seyfan\"\n",
    "accountBalance = 4623784.9\n",
    "\n",
    "#+. -, * / basic operation\n",
    "\n",
    "#//  integer division\n",
    "#%   moudule Operations\n",
    "# **  Exponatial\n",
    "#= assigment operator\n",
    "\n",
    "\n",
    "\n",
    "# ==, !=, <> >=, <=\n",
    "\n",
    "# and, or, not\n",
    "#bitwise operations\n",
    "#&"
   ]
  },
  {
   "cell_type": "code",
   "execution_count": 35,
   "metadata": {},
   "outputs": [
    {
     "name": "stdout",
     "output_type": "stream",
     "text": [
      "Can withdraw: True\n"
     ]
    }
   ],
   "source": [
    "#Checking if a transaction is within the user’s balance\n",
    "account_balance = 500\n",
    "withdrawal_amount = 200\n",
    "can_withdraw = withdrawal_amount + 50 <= account_balance\n",
    "print(\"Can withdraw:\", can_withdraw) # Output: Can withdraw: True"
   ]
  },
  {
   "cell_type": "code",
   "execution_count": null,
   "metadata": {},
   "outputs": [],
   "source": [
    "#Determine if a customer is eligible for a premium account based on balance\n",
    "account_balance = 5000\n",
    "minimum_balance_for_premium = 10000\n",
    "is_premium = account_balance >= minimum_balance_for_premium\n",
    "print(\"Is eligible for premium account:\", is_premium) # Output: Iseligible for premium account: False"
   ]
  },
  {
   "cell_type": "code",
   "execution_count": 43,
   "metadata": {},
   "outputs": [
    {
     "name": "stdout",
     "output_type": "stream",
     "text": [
      "0 1 1\n"
     ]
    }
   ],
   "source": [
    "a = 1  #00000001\n",
    "b = 0  #00000010\n",
    "c = a and b\n",
    "c1 = a | b\n",
    "c2 = a^b\n",
    "\n",
    "print(c, c1, c2)"
   ]
  }
 ],
 "metadata": {
  "kernelspec": {
   "display_name": "Python 3",
   "language": "python",
   "name": "python3"
  },
  "language_info": {
   "codemirror_mode": {
    "name": "ipython",
    "version": 3
   },
   "file_extension": ".py",
   "mimetype": "text/x-python",
   "name": "python",
   "nbconvert_exporter": "python",
   "pygments_lexer": "ipython3",
   "version": "3.13.1"
  }
 },
 "nbformat": 4,
 "nbformat_minor": 2
}
